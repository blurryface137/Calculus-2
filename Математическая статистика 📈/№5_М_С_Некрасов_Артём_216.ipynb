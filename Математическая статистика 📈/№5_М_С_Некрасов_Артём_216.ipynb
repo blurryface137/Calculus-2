{
  "nbformat": 4,
  "nbformat_minor": 0,
  "metadata": {
    "colab": {
      "provenance": []
    },
    "kernelspec": {
      "name": "python3",
      "display_name": "Python 3"
    },
    "language_info": {
      "name": "python"
    }
  },
  "cells": [
    {
      "cell_type": "markdown",
      "source": [
        "# Домашнее задание №5"
      ],
      "metadata": {
        "id": "eC4qTUEIs2vf"
      }
    },
    {
      "cell_type": "code",
      "source": [
        "import numpy as np\n",
        "import matplotlib.pyplot as plt\n",
        "from scipy.stats import expon\n",
        "import math\n",
        "from scipy.stats import beta"
      ],
      "metadata": {
        "id": "lu2PFHjWuaYv"
      },
      "execution_count": 36,
      "outputs": []
    },
    {
      "cell_type": "markdown",
      "source": [
        "## ***Задача 1: распределение верхних экстремумов для показательной модели***"
      ],
      "metadata": {
        "id": "_XPo-hURtPPW"
      }
    },
    {
      "cell_type": "markdown",
      "source": [
        "### **1.** Зафиксируйте $n$."
      ],
      "metadata": {
        "id": "IwT9dYkEtTyO"
      }
    },
    {
      "cell_type": "code",
      "execution_count": 37,
      "metadata": {
        "id": "NEVjGbjns13j"
      },
      "outputs": [],
      "source": [
        "n = 100"
      ]
    },
    {
      "cell_type": "markdown",
      "source": [
        "### **2.** Сгенерируйте $K = n^2$ выборок $(X_1^k, X_2^k, ... , X_n^k)$ объема $n$ из экспоненциального распределения $\\operatorname{Exp}(1)$. В каждой из $K$ выборок определить максимум $X_{(n)}^k$, $1 \\le k \\le n$."
      ],
      "metadata": {
        "id": "syL2B2rPtbZj"
      }
    },
    {
      "cell_type": "code",
      "source": [
        "K = n**2\n",
        "\n",
        "samples = np.random.exponential(size=(K, n))\n",
        "maxima = np.max(samples, axis=1)"
      ],
      "metadata": {
        "id": "F7JBujGTuPHL"
      },
      "execution_count": 38,
      "outputs": []
    },
    {
      "cell_type": "markdown",
      "source": [
        "### **3.** Вычислите функцию \\begin{equation}\n",
        "    \\hat G_K(x) = \\cfrac{1}{K} \\sum\\limits_{k=1}^{K}\\mathbb{1}\\left(X_{(n)}^k - \\ln n \\le x \\right), \\;\\;\\; x \\ge 0.\n",
        "\\end{equation} и постройте графики зависимостей $\\hat G_K(x)$ и $G(x) = e^{-e^{-x}}$ от $x$."
      ],
      "metadata": {
        "id": "GAwdTKkZvbH2"
      }
    },
    {
      "cell_type": "code",
      "source": [
        "def G(x):\n",
        "    return np.exp(-np.exp(-x))\n",
        "\n",
        "def G_hat(x, maxima):\n",
        "    return np.mean(maxima - np.log(n) <= x)\n",
        "\n",
        "x_values = np.linspace(-5, 10, num=K)\n",
        "\n",
        "G_values = G(x_values)\n",
        "G_hat_values = np.array([G_hat(x, maxima) for x in x_values])\n",
        "\n",
        "plt.plot(x_values, G_values, label='G(x)')\n",
        "plt.plot(x_values, G_hat_values, label='$Ĝ_K(x)$')\n",
        "plt.legend()\n",
        "plt.xlabel('x')\n",
        "plt.ylabel('G(x), $Ĝ_K(x)$')\n",
        "plt.title('График функций G(x) и $Ĝ_K(x)$')\n",
        "plt.grid(True)\n",
        "plt.show()"
      ],
      "metadata": {
        "id": "r_T7QjIWwaqp",
        "colab": {
          "base_uri": "https://localhost:8080/",
          "height": 298
        },
        "outputId": "2fd0178e-cd71-44a2-d239-33068d759569"
      },
      "execution_count": 39,
      "outputs": [
        {
          "output_type": "display_data",
          "data": {
            "text/plain": [
              "<Figure size 432x288 with 1 Axes>"
            ],
            "image/png": "[encoded data removed]"
          },
          "metadata": {
            "needs_background": "light"
          }
        }
      ]
    },
    {
      "cell_type": "markdown",
      "source": [
        "### **4.** Убедитесь, что $\\hat G_K$ близка к $G(x) = e^{-e^{-x}}$. Для этого вычислите \\begin{equation}\n",
        "    T_K = \\operatorname{sup}\\limits_{x \\ge 0} \\left| \\hat G_K(x) - G(x) \\right|.\n",
        "\\end{equation} Обратите внимание, что $\\hat G_K$ -- кусочно постоянная функция, а G - монотонная. Поэтому значение статистики $T_K$ можно найти точно."
      ],
      "metadata": {
        "id": "x_UaW7hIF2Y2"
      }
    },
    {
      "cell_type": "code",
      "source": [
        "G_values = G(x_values)\n",
        "G_hat_values = np.array([G_hat(x, maxima) for x in x_values])\n",
        "T_K = np.max(np.abs(G_hat_values - G_values))\n",
        "\n",
        "print('Значение статистики T_K:', T_K)"
      ],
      "metadata": {
        "id": "xBLdahGfHf8j",
        "colab": {
          "base_uri": "https://localhost:8080/"
        },
        "outputId": "cca1de38-985f-49d1-df0b-f1ba72ecab83"
      },
      "execution_count": 40,
      "outputs": [
        {
          "output_type": "stream",
          "name": "stdout",
          "text": [
            "Значение статистики T_K: 0.006888547388590793\n"
          ]
        }
      ]
    },
    {
      "cell_type": "markdown",
      "source": [
        "### **5.** Повторите задания пп. 1, 2 и 4 при различных $n$. Постройте график зависимости $T_K$ от $n$. Необходимо взять не менее $10$ различных значений $n$. Графики функций $\\hat G_K$ и $G$ (см. п.3) можно построить при одном фиксированном значении $n$ на Ваш выбор."
      ],
      "metadata": {
        "id": "ELUgwO96PJvx"
      }
    },
    {
      "cell_type": "code",
      "source": [
        "import numpy as np\n",
        "import matplotlib.pyplot as plt\n",
        "\n",
        "\n",
        "# функция для вычисления статистики Т_K\n",
        "def compute_T(K, n):\n",
        "    # генерируем выборки и вычисляем максимумы\n",
        "    samples = np.random.exponential(size=(K, n))\n",
        "    maxima = np.max(samples, axis=1)\n",
        "    \n",
        "    # вычисляем G^_K(x)\n",
        "    G_K = np.mean(maxima.reshape(K, 1) - np.log(n) <= x_values, axis=0)\n",
        "    \n",
        "    # вычисляем значение функции G(x)\n",
        "    G = np.exp(-np.exp(-x_values))\n",
        "    \n",
        "    # вычисляем статистику T_K\n",
        "    T_K = np.max(np.abs(G_K - G))\n",
        "    \n",
        "    return T_K\n",
        "\n",
        "# значения n, для которых будем рассчитывать T_K\n",
        "n_values = [15000, 20000, 25000, 30000, 35000, 40000, 45000, 50000, 55000, 60000]\n",
        "\n",
        "# значения x для построения графика\n",
        "x_values = np.linspace(0, 8, 1000)\n",
        "\n",
        "# количество выборок для каждого n\n",
        "K = 100\n",
        "\n",
        "# вычисляем T_K для каждого n\n",
        "T_K_values = []\n",
        "for n in n_values:\n",
        "    T_K = compute_T(K, n)\n",
        "    T_K_values.append(T_K)\n",
        "\n",
        "# строим график зависимости T_K от n\n",
        "plt.plot(n_values, T_K_values)\n",
        "plt.xlabel('n')\n",
        "plt.ylabel('$T_K$')\n",
        "plt.title('Зависимость $T_K$ от n')\n",
        "plt.grid(True)\n",
        "plt.show()\n"
      ],
      "metadata": {
        "id": "1QyzWLxWPtRj",
        "colab": {
          "base_uri": "https://localhost:8080/",
          "height": 296
        },
        "outputId": "efce0e6f-e4ed-4837-d13a-f6dc538979cc"
      },
      "execution_count": 41,
      "outputs": [
        {
          "output_type": "display_data",
          "data": {
            "text/plain": [
              "<Figure size 432x288 with 1 Axes>"
            ],
            "image/png": "[encoded data removed]"
          },
          "metadata": {
            "needs_background": "light"
          }
        }
      ]
    },
    {
      "cell_type": "markdown",
      "source": [
        "Из графика видно, что статистика $T_K$ убывает с ростом $n$, что подтверждает сходимость $Ĝ_K(x)$ к $G(x)$ при увеличении размера выборки."
      ],
      "metadata": {
        "id": "UYqPkX3l7pXu"
      }
    },
    {
      "cell_type": "markdown",
      "source": [
        "##  ***Задача 2: распределение порядковых статистик равномерного распределенияю***\n"
      ],
      "metadata": {
        "id": "yNgbR0aPXHno"
      }
    },
    {
      "cell_type": "markdown",
      "source": [
        "### **1.** Зафиксируйте $n \\in \\mathbb{N}$ и натуральное $r$ от $1$ до $n$."
      ],
      "metadata": {
        "id": "TEsgDVo1XdiZ"
      }
    },
    {
      "cell_type": "code",
      "source": [
        "n = 100\n",
        "r = 50"
      ],
      "metadata": {
        "id": "dnd0lnl9b22L"
      },
      "execution_count": 57,
      "outputs": []
    },
    {
      "cell_type": "markdown",
      "source": [
        "### **2.** Сгенерируйте $K = n^2$ выборок $\\left( X_1^k, ... , X_n^k \\right)$, $1 \\le k \\le K$, объёма $n$ из равномерного распределения на отрезке $\\left[ 0, 1 \\right]$. В каждой из $K$ выборок определить $r$-ую порядковую статистику $X_{(r)}^k$."
      ],
      "metadata": {
        "id": "y6gTSzAfX3Ha"
      }
    },
    {
      "cell_type": "code",
      "source": [
        "K = n**2\n",
        "X_r = np.zeros(K)\n",
        "for k in range(K):\n",
        "    sample = np.random.uniform(size=n)\n",
        "    X_r[k] = np.partition(sample, r-1)[r-1]"
      ],
      "metadata": {
        "id": "MTyDVHJZb2Uq"
      },
      "execution_count": 58,
      "outputs": []
    },
    {
      "cell_type": "markdown",
      "source": [
        "### **3.**  По набору наблюдений $X_{(r)}^1, ... , X_{(r)}^K$ постройте гистограмму. На тот же рисунок добавьте график плотности распределения $\\operatorname{Beta}(r, n + 1 - r)$."
      ],
      "metadata": {
        "id": "Djm84pZ0Y9Fr"
      }
    },
    {
      "cell_type": "code",
      "source": [
        "plt.hist(X_r, bins=20, density=True, alpha=0.5)\n",
        "x = np.linspace(0, 1, n)\n",
        "plt.plot(x, beta.pdf(x, r, n+1-r), 'r-', lw=2, alpha=0.8)\n",
        "plt.legend(['Beta({},{})'.format(r, n+1-r), 'Гистограмма'])\n",
        "plt.xlabel('Значение $X_{(r)}$')\n",
        "plt.ylabel('Плотность')\n",
        "plt.title('Распределение порядковой статистики $X_{(r)}$ для равномерного распределения на [0,1]')\n",
        "plt.grid(True)\n",
        "plt.show()"
      ],
      "metadata": {
        "id": "a7NUjfksb1y-",
        "colab": {
          "base_uri": "https://localhost:8080/",
          "height": 303
        },
        "outputId": "22ceb7b0-2f9c-48eb-b70a-a1e338bbbe9a"
      },
      "execution_count": 59,
      "outputs": [
        {
          "output_type": "display_data",
          "data": {
            "text/plain": [
              "<Figure size 432x288 with 1 Axes>"
            ],
            "image/png": "[encoded data removed]"
          },
          "metadata": {
            "needs_background": "light"
          }
        }
      ]
    },
    {
      "cell_type": "markdown",
      "source": [
        "### **4.** Убедитесь, что эмпирическая функция распределения \\begin{equation} \\hat F_K(t) = \\cfrac{1}{K} \\sum\\limits_{k = 1}^{K}\\mathbb{1}\\left( X_{(r)}^k \\le t \\right), \\;\\;\\; t \\in [0, 1] \\end{equation} близка к функции распределения $\\operatorname{Beta}(r, n + 1 − r)$. Для этого вычислите \\begin{equation} T_K = \\operatorname{sup}_{t \\ge 0} \\left| \\hat F_K(t) - G_{r, n+1-r}(t) \\right|, \\end{equation} где $G_{r, n + 1 - r}$  - функция распределения $\\operatorname{Beta}(r, n + 1 - r)$ (доступна в библиотеке scipy). Обратите внимание, что $\\hat F_K$ - кусочно постоянная функция, а $G_{r, n+1-r}$ - монотонная. Поэтому значение статистики $T_K$ можно найти точно."
      ],
      "metadata": {
        "id": "YynLfc4EZVwd"
      }
    },
    {
      "cell_type": "code",
      "source": [
        "def G(t):\n",
        "    return beta.cdf(t, r, n+1-r)\n",
        "\n",
        "# Определяем функцию эмпирической функции распределения\n",
        "def F_hat(t, X_r):\n",
        "    return np.mean(X_r <= t)\n",
        "\n",
        "# Вычисляем значение статистики\n",
        "t = np.linspace(0, 1, K)\n",
        "T_K = np.max(np.abs(F_hat(t, X_r) - G(t)))\n",
        "\n",
        "print('Значение статистики T_K:', T_K)"
      ],
      "metadata": {
        "id": "zbFp3eOmb0vJ",
        "colab": {
          "base_uri": "https://localhost:8080/"
        },
        "outputId": "ad2e1501-3a59-405c-f4fe-f9b259e214b5"
      },
      "execution_count": 60,
      "outputs": [
        {
          "output_type": "stream",
          "name": "stdout",
          "text": [
            "Значение статистики T_K: 0.5047\n"
          ]
        }
      ]
    },
    {
      "cell_type": "markdown",
      "source": [
        "### **5.** Повторите задания пп. 1, 2, 4 при различных значениях $r$ и $n$. При каждом $r$ постройте график зависимости $T_K$ от $n$. Убедитесь, что значение $T_K$ стремится к нулю с ростом $r$. Необходимо выбрать не менее трех различных значений $r$ и не менее $10$ различных значений $n$. Гистограмму (см. п. 3) можно построить при одном фиксированном значении $n$ на Ваш выбор."
      ],
      "metadata": {
        "id": "wxSQhaVdbU6M"
      }
    },
    {
      "cell_type": "code",
      "source": [
        "def calculate_T_K(r, n):\n",
        "    # Генерируем выборку\n",
        "    X_r = np.zeros(K)\n",
        "    for k in range(K):\n",
        "      sample = np.random.uniform(size=n)\n",
        "      X_r[k] = np.partition(sample, r-1)[r-1]\n",
        "    \n",
        "    # Определяем функцию Beta распределения\n",
        "    def G(t):\n",
        "        return beta.cdf(t, r, n+1-r)\n",
        "    \n",
        "    # Определяем функцию эмпирической функции распределения\n",
        "    def F_hat(t, X_r):\n",
        "        return np.mean(X_r <= t)\n",
        "    \n",
        "    # Вычисляем значение статистики\n",
        "    t = np.linspace(0, 1, K)\n",
        "    T_K = np.max(np.abs(F_hat(t, X_r) - G(t)))\n",
        "    \n",
        "    return T_K\n"
      ],
      "metadata": {
        "id": "z78jyooaby3z"
      },
      "execution_count": 61,
      "outputs": []
    },
    {
      "cell_type": "code",
      "source": [
        "r_values = [10, 500, 1000]\n",
        "n_values = [15000, 20000, 25000, 30000, 35000, 40000, 45000, 50000, 55000, 60000]\n",
        "\n",
        "for r in r_values:\n",
        "    T_Ki = [calculate_T_K(r, n) for n in n_values]\n",
        "    plt.plot(n_values, T_Ki, label=f'r = {r}')\n",
        "\n",
        "plt.legend()\n",
        "plt.title('Зависимость $T_K$ от n при различных значениях r')\n",
        "plt.xlabel('n')\n",
        "plt.ylabel('$T_K$')\n",
        "plt.grid(True)\n",
        "plt.show()"
      ],
      "metadata": {
        "colab": {
          "base_uri": "https://localhost:8080/",
          "height": 296
        },
        "id": "nRrkTy4ENt_S",
        "outputId": "0c9acb1d-ad58-4ea2-aa09-77687fd83126"
      },
      "execution_count": 63,
      "outputs": [
        {
          "output_type": "display_data",
          "data": {
            "text/plain": [
              "<Figure size 432x288 with 1 Axes>"
            ],
            "image/png": "[encoded data removed]"
          },
          "metadata": {
            "needs_background": "light"
          }
        }
      ]
    },
    {
      "cell_type": "code",
      "source": [
        "n = 100\n",
        "r = 50\n",
        "T_Ks = [calculate_T_K(r, n) for _ in range(1000)]\n",
        "plt.hist(T_Ks, bins=30)\n",
        "plt.xlabel('$T_K$')\n",
        "plt.ylabel('Частота')\n",
        "plt.grid(True)\n",
        "plt.show()\n"
      ],
      "metadata": {
        "colab": {
          "base_uri": "https://localhost:8080/",
          "height": 283
        },
        "id": "q1H31MHtORDj",
        "outputId": "b0d1111d-34d7-4202-a0b2-686d2dfaeb12"
      },
      "execution_count": 66,
      "outputs": [
        {
          "output_type": "display_data",
          "data": {
            "text/plain": [
              "<Figure size 432x288 with 1 Axes>"
            ],
            "image/png": "[encoded data removed]"
          },
          "metadata": {
            "needs_background": "light"
          }
        }
      ]
    }
  ]
}